{
  "cells": [
    {
      "cell_type": "markdown",
      "metadata": {},
      "source": [
        "**Nomor 1 UCI ML REPO**\n",
        "===\n",
        "---"
      ]
    },
    {
      "cell_type": "code",
      "execution_count": 1,
      "metadata": {
        "colab": {
          "base_uri": "https://localhost:8080/"
        },
        "id": "3ezjZe_R6FvW",
        "outputId": "ccbb8e67-eec9-4ec5-c84c-a1665c4e7999"
      },
      "outputs": [
        {
          "name": "stdout",
          "output_type": "stream",
          "text": [
            "Drive already mounted at /content/drive; to attempt to forcibly remount, call drive.mount(\"/content/drive\", force_remount=True).\n"
          ]
        }
      ],
      "source": [
        "from google.colab import drive\n",
        "drive.mount('/content/drive')"
      ]
    },
    {
      "cell_type": "code",
      "execution_count": 11,
      "metadata": {
        "colab": {
          "base_uri": "https://localhost:8080/"
        },
        "id": "YO-4iJv_ACnS",
        "outputId": "5e5f1ceb-4c24-4873-c2f6-b8676f4d2f1c"
      },
      "outputs": [
        {
          "name": "stdout",
          "output_type": "stream",
          "text": [
            "Collecting ucimlrepo\n",
            "  Downloading ucimlrepo-0.0.7-py3-none-any.whl.metadata (5.5 kB)\n",
            "Requirement already satisfied: pandas>=1.0.0 in /usr/local/lib/python3.11/dist-packages (from ucimlrepo) (2.2.2)\n",
            "Requirement already satisfied: certifi>=2020.12.5 in /usr/local/lib/python3.11/dist-packages (from ucimlrepo) (2025.4.26)\n",
            "Requirement already satisfied: numpy>=1.23.2 in /usr/local/lib/python3.11/dist-packages (from pandas>=1.0.0->ucimlrepo) (2.0.2)\n",
            "Requirement already satisfied: python-dateutil>=2.8.2 in /usr/local/lib/python3.11/dist-packages (from pandas>=1.0.0->ucimlrepo) (2.9.0.post0)\n",
            "Requirement already satisfied: pytz>=2020.1 in /usr/local/lib/python3.11/dist-packages (from pandas>=1.0.0->ucimlrepo) (2025.2)\n",
            "Requirement already satisfied: tzdata>=2022.7 in /usr/local/lib/python3.11/dist-packages (from pandas>=1.0.0->ucimlrepo) (2025.2)\n",
            "Requirement already satisfied: six>=1.5 in /usr/local/lib/python3.11/dist-packages (from python-dateutil>=2.8.2->pandas>=1.0.0->ucimlrepo) (1.17.0)\n",
            "Downloading ucimlrepo-0.0.7-py3-none-any.whl (8.0 kB)\n",
            "Installing collected packages: ucimlrepo\n",
            "Successfully installed ucimlrepo-0.0.7\n"
          ]
        }
      ],
      "source": [
        "pip install ucimlrepo"
      ]
    },
    {
      "cell_type": "code",
      "execution_count": 45,
      "metadata": {
        "colab": {
          "base_uri": "https://localhost:8080/"
        },
        "id": "b9CGPCWbDk-Z",
        "outputId": "a50cc0a6-d7c2-4c07-d154-03a82ce782e9"
      },
      "outputs": [
        {
          "name": "stdout",
          "output_type": "stream",
          "text": [
            "\n",
            "Data dari CSV:\n",
            "   sepal length  sepal width  petal length  petal width        class\n",
            "0           5.1          3.5           1.4          0.2  Iris-setosa\n",
            "1           4.9          3.0           1.4          0.2  Iris-setosa\n",
            "2           4.7          3.2           1.3          0.2  Iris-setosa\n",
            "3           4.6          3.1           1.5          0.2  Iris-setosa\n",
            "4           5.0          3.6           1.4          0.2  Iris-setosa\n",
            "\n",
            "Metadata:\n",
            "{'uci_id': 53, 'name': 'Iris', 'repository_url': 'https://archive.ics.uci.edu/dataset/53/iris', 'data_url': 'https://archive.ics.uci.edu/static/public/53/data.csv', 'abstract': 'A small classic dataset from Fisher, 1936. One of the earliest known datasets used for evaluating classification methods.\\n', 'area': 'Biology', 'tasks': ['Classification'], 'characteristics': ['Tabular'], 'num_instances': 150, 'num_features': 4, 'feature_types': ['Real'], 'demographics': [], 'target_col': ['class'], 'index_col': None, 'has_missing_values': 'no', 'missing_values_symbol': None, 'year_of_dataset_creation': 1936, 'last_updated': 'Tue Sep 12 2023', 'dataset_doi': '10.24432/C56C76', 'creators': ['R. A. Fisher'], 'intro_paper': {'ID': 191, 'type': 'NATIVE', 'title': 'The Iris data set: In search of the source of virginica', 'authors': 'A. Unwin, K. Kleinman', 'venue': 'Significance, 2021', 'year': 2021, 'journal': 'Significance, 2021', 'DOI': '1740-9713.01589', 'URL': 'https://www.semanticscholar.org/paper/4599862ea877863669a6a8e63a3c707a787d5d7e', 'sha': None, 'corpus': None, 'arxiv': None, 'mag': None, 'acl': None, 'pmid': None, 'pmcid': None}, 'additional_info': {'summary': 'This is one of the earliest datasets used in the literature on classification methods and widely used in statistics and machine learning.  The data set contains 3 classes of 50 instances each, where each class refers to a type of iris plant.  One class is linearly separable from the other 2; the latter are not linearly separable from each other.\\n\\nPredicted attribute: class of iris plant.\\n\\nThis is an exceedingly simple domain.\\n\\nThis data differs from the data presented in Fishers article (identified by Steve Chadwick,  spchadwick@espeedaz.net ).  The 35th sample should be: 4.9,3.1,1.5,0.2,\"Iris-setosa\" where the error is in the fourth feature. The 38th sample: 4.9,3.6,1.4,0.1,\"Iris-setosa\" where the errors are in the second and third features.  ', 'purpose': 'N/A', 'funded_by': None, 'instances_represent': 'Each instance is a plant', 'recommended_data_splits': None, 'sensitive_data': None, 'preprocessing_description': None, 'variable_info': None, 'citation': None}}\n",
            "\n",
            "Informasi Variabel:\n",
            "           name     role         type demographic  \\\n",
            "0  sepal length  Feature   Continuous        None   \n",
            "1   sepal width  Feature   Continuous        None   \n",
            "2  petal length  Feature   Continuous        None   \n",
            "3   petal width  Feature   Continuous        None   \n",
            "4         class   Target  Categorical        None   \n",
            "\n",
            "                                         description units missing_values  \n",
            "0                                               None    cm             no  \n",
            "1                                               None    cm             no  \n",
            "2                                               None    cm             no  \n",
            "3                                               None    cm             no  \n",
            "4  class of iris plant: Iris Setosa, Iris Versico...  None             no  \n"
          ]
        }
      ],
      "source": [
        "import pandas as pd\n",
        "import os\n",
        "from ucimlrepo import fetch_ucirepo\n",
        "\n",
        "# Fetch dataset\n",
        "iris = fetch_ucirepo(id=53)\n",
        "\n",
        "# Gabungkan fitur dan target menjadi satu DataFrame\n",
        "data = pd.concat([iris.data.features, iris.data.targets], axis=1)\n",
        "\n",
        "# Buat folder jika belum ada\n",
        "os.makedirs(\"UCIML-Repo\", exist_ok=True)\n",
        "\n",
        "# Simpan ke CSV\n",
        "data.to_csv(\"UCIML-Repo/iris_data.csv\", index=False)\n",
        "\n",
        "# Baca data dari CSV\n",
        "df = pd.read_csv(\"UCIML-Repo/iris_data.csv\")\n",
        "\n",
        "# Tampilkan tabel data\n",
        "print(\"\\nData dari CSV:\")\n",
        "print(df.head())\n",
        "\n",
        "# informasi metadata\n",
        "print(\"\\nMetadata:\")\n",
        "print(iris.metadata)\n",
        "\n",
        "# informasi variabel\n",
        "print(\"\\nInformasi Variabel:\")\n",
        "print(iris.variables)"
      ]
    },
    {
      "cell_type": "markdown",
      "metadata": {},
      "source": [
        "**Nomor 2 Google API**\n",
        "===\n",
        "---"
      ]
    },
    {
      "cell_type": "markdown",
      "metadata": {},
      "source": [
        "## Persiapan API Key\n",
        "\n",
        "1. Buka Google Cloud Console\n",
        "\n",
        "2. Buat proyek baru dan aktifkan Places API\n",
        "\n",
        "3. Generate API Key di bagian \"Credentials\""
      ]
    },
    {
      "cell_type": "markdown",
      "metadata": {},
      "source": [
        "## harap gunakai API key SENDIRI DIKARENAKAN BERBAYAR\n"
      ]
    },
    {
      "cell_type": "markdown",
      "metadata": {},
      "source": [
        "Disini menggunakan `pip install request` untuk mengakeses google API"
      ]
    },
    {
      "cell_type": "markdown",
      "metadata": {},
      "source": [
        "demi keamanan API (windows)\n",
        "## Cara Set Environment Variable aga API aman menggunakan `.env` \n",
        "\n",
        "Install package:\n",
        "`!pip install python-dotenv`\n",
        "\n",
        "Buat file `.env` di folder yang sama di project:\n",
        "\n",
        "1. cara pertama Buka Notepad → Simpan dengan nama `.env` (pilih All Files di \"Save as type\").\n",
        "2. Atau cara kedua lewat PowerShell: `New-Item .env -type file`\n",
        "\n",
        "kemudian isi `.env` dengan: `GOOGLE_API_KEY=\"API_KEY_ANDA\"`\n"
      ]
    },
    {
      "cell_type": "code",
      "execution_count": null,
      "metadata": {},
      "outputs": [],
      "source": [
        "# cek apakah API muncul dari .env\n",
        "print(\"API Key:\", os.getenv(\"GOOGLE_API_KEY\"))  # Harus muncul API Key"
      ]
    },
    {
      "cell_type": "code",
      "execution_count": 46,
      "metadata": {
        "id": "QlW-cDVZHBfV"
      },
      "outputs": [
        {
          "name": "stdout",
          "output_type": "stream",
          "text": [
            "Data berhasil disimpan di folder 'data dari Google':\n",
            "- JSON: data dari Google\\data dari Google_20250507_035719.json\n",
            "- CSV: data dari Google\\data dari Google_20250507_035719.csv\n",
            "Total data: 20 record\n"
          ]
        }
      ],
      "source": [
        "import requests\n",
        "import json\n",
        "import csv\n",
        "import os\n",
        "from datetime import datetime\n",
        "from dotenv import load_dotenv\n",
        "\n",
        "# Muat environment variable\n",
        "load_dotenv()\n",
        "\n",
        "# Validasi API Key\n",
        "API_KEY = os.getenv(\"GOOGLE_API_KEY\")\n",
        "if not API_KEY:\n",
        "    raise ValueError(\"API Key tidak ditemukan! Pastikan sudah di-set di environment variable atau file .env\")\n",
        "\n",
        "ENDPOINT = \"https://maps.googleapis.com/maps/api/place/nearbysearch/json\"\n",
        "\n",
        "# Parameter pencarian\n",
        "params = {\n",
        "    \"location\": \"-6.200000,106.816666\",  # Koordinat Map\n",
        "    \"radius\": 2000,\n",
        "    \"type\": \"restaurant\", # Tipe yang di cari \n",
        "    \"key\": API_KEY\n",
        "}\n",
        "\n",
        "# Buat folder jika belum ada\n",
        "folder_path = \"data dari Google\"\n",
        "os.makedirs(folder_path, exist_ok=True)\n",
        "\n",
        "# Eksekusi request\n",
        "response = requests.get(ENDPOINT, params=params)\n",
        "\n",
        "if response.status_code == 200:\n",
        "    data = response.json()\n",
        "    \n",
        "    if data[\"status\"] == \"OK\":\n",
        "        timestamp = datetime.now().strftime(\"%Y%m%d_%H%M%S\")\n",
        "        \n",
        "        # Simpan JSON\n",
        "        json_filename = os.path.join(folder_path, f\"data dari Google_{timestamp}.json\")\n",
        "        with open(json_filename, 'w', encoding='utf-8') as f:\n",
        "            json.dump(data, f, indent=4, ensure_ascii=False)\n",
        "        \n",
        "        # Simpan CSV\n",
        "        csv_filename = os.path.join(folder_path, f\"data dari Google_{timestamp}.csv\")\n",
        "        with open(csv_filename, 'w', newline='', encoding='utf-8') as f:\n",
        "            writer = csv.writer(f)\n",
        "            # Header CSV\n",
        "            writer.writerow([\n",
        "                \"Nama\", \n",
        "                \"Alamat\", \n",
        "                \"Rating\", \n",
        "                \"Total Rating\", \n",
        "                \"Latitude\", \n",
        "                \"Longitude\"\n",
        "            ])\n",
        "            \n",
        "            # Isi CSV\n",
        "            for place in data[\"results\"]:\n",
        "                writer.writerow([\n",
        "                    place.get(\"name\", \"N/A\"),\n",
        "                    place.get(\"vicinity\", \"N/A\"),\n",
        "                    place.get(\"rating\", \"N/A\"),\n",
        "                    place.get(\"user_ratings_total\", \"N/A\"),\n",
        "                    place[\"geometry\"][\"location\"][\"lat\"],\n",
        "                    place[\"geometry\"][\"location\"][\"lng\"]\n",
        "                ])\n",
        "        \n",
        "        print(f\"Data berhasil disimpan di folder '{folder_path}':\")\n",
        "        print(f\"- JSON: {json_filename}\")\n",
        "        print(f\"- CSV: {csv_filename}\")\n",
        "        print(f\"Total data: {len(data['results'])} record\")\n",
        "        \n",
        "    else:\n",
        "        print(\"Error API:\", data[\"status\"])\n",
        "else:\n",
        "    print(\"Gagal terhubung. Kode status:\", response.status_code)"
      ]
    },
    {
      "cell_type": "markdown",
      "metadata": {},
      "source": [
        "Atau Bisa dengan Mengguankan langsung di link seperti ini (Tidak rekomendasi karena API_KEY adalah data sensitif)"
      ]
    },
    {
      "cell_type": "raw",
      "metadata": {
        "vscode": {
          "languageId": "raw"
        }
      },
      "source": [
        "https://maps.googleapis.com/maps/api/place/nearbysearch/json?\n",
        "key=YOUR_API_KEY&\n",
        "location=-6.2088,106.8457&\n",
        "radius=2000&\n",
        "type=restaurant"
      ]
    }
  ],
  "metadata": {
    "colab": {
      "provenance": []
    },
    "kernelspec": {
      "display_name": "Python 3",
      "name": "python3"
    },
    "language_info": {
      "codemirror_mode": {
        "name": "ipython",
        "version": 3
      },
      "file_extension": ".py",
      "mimetype": "text/x-python",
      "name": "python",
      "nbconvert_exporter": "python",
      "pygments_lexer": "ipython3",
      "version": "3.13.3"
    }
  },
  "nbformat": 4,
  "nbformat_minor": 0
}
